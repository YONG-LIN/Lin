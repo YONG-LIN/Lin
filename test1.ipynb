{
 "cells": [
  {
   "cell_type": "code",
   "execution_count": 20,
   "metadata": {},
   "outputs": [
    {
     "name": "stdout",
     "output_type": "stream",
     "text": [
      "0.32835000000000003\n",
      "0.004983333333333284\n"
     ]
    },
    {
     "data": {
      "image/png": "[encoded data removed]",
      "text/plain": [
       "<Figure size 432x288 with 1 Axes>"
      ]
     },
     "metadata": {},
     "output_type": "display_data"
    }
   ],
   "source": [
    "import numpy as np\n",
    "import matplotlib.pyplot as plt\n",
    "width=0.01\n",
    "# Create data\n",
    "x=np.arange(0,1,width) # interval from 0 to 6 with unit 0.1\n",
    "y=x**2\n",
    "plt.bar(x, y, align='center',width=0.2)\n",
    "\n",
    "a=np.sum(y)*width\n",
    "eror = 1/3 -a\n",
    "print(a)\n",
    "print(eror)"
   ]
  },
  {
   "cell_type": "markdown",
   "metadata": {},
   "source": [
    "We explore the definite integration of function $f(x)=x$:\n",
    "\n",
    "$$\n",
    "\\begin{align*} \n",
    "I  &=\\int_{0}^{1} f(x) dx \\\\\n",
    "   &=\\tfrac{1}{3} x^3 \n",
    "\\Big|_0^1=\\tfrac{1}{3} 1^3 -0=\\tfrac{1}{3}\n",
    "\\end{align*}\n",
    "$$"
   ]
  },
  {
   "cell_type": "code",
   "execution_count": 3,
   "metadata": {},
   "outputs": [
    {
     "data": {
      "text/plain": [
       "(0.33333333333333337, 3.700743415417189e-15)"
      ]
     },
     "execution_count": 3,
     "metadata": {},
     "output_type": "execute_result"
    }
   ],
   "source": [
    "from scipy.integrate import quad\n",
    "def integrand(x, a, b):\n",
    "    return a*x*x + b\n",
    "a=1\n",
    "b=0\n",
    "I = quad(integrand, 0, 1, args=(a,b))\n",
    "I"
   ]
  },
  {
   "cell_type": "code",
   "execution_count": null,
   "metadata": {},
   "outputs": [],
   "source": []
  }
 ],
 "metadata": {
  "kernelspec": {
   "display_name": "Python 3",
   "language": "python",
   "name": "python3"
  },
  "language_info": {
   "codemirror_mode": {
    "name": "ipython",
    "version": 3
   },
   "file_extension": ".py",
   "mimetype": "text/x-python",
   "name": "python",
   "nbconvert_exporter": "python",
   "pygments_lexer": "ipython3",
   "version": "3.6.5"
  }
 },
 "nbformat": 4,
 "nbformat_minor": 2
}
